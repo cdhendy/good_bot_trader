{
 "cells": [
  {
   "cell_type": "markdown",
   "source": [
    "# Machine Learning Trading Bot\r\n",
    "\r\n",
    "In this Challenge, you’ll assume the role of a financial advisor at one of the top five financial advisory firms in the world. Your firm constantly competes with the other major firms to manage and automatically trade assets in a highly dynamic environment. In recent years, your firm has heavily profited by using computer algorithms that can buy and sell faster than human traders.\r\n",
    "\r\n",
    "The speed of these transactions gave your firm a competitive advantage early on. But, people still need to specifically program these systems, which limits their ability to adapt to new data. You’re thus planning to improve the existing algorithmic trading systems and maintain the firm’s competitive advantage in the market. To do so, you’ll enhance the existing trading signals with machine learning algorithms that can adapt to new data.\r\n",
    "\r\n",
    "## Instructions:\r\n",
    "\r\n",
    "Use the starter code file to complete the steps that the instructions outline. The steps for this Challenge are divided into the following sections:\r\n",
    "\r\n",
    "* Establish a Baseline Performance\r\n",
    "\r\n",
    "* Tune the Baseline Trading Algorithm\r\n",
    "\r\n",
    "* Evaluate a New Machine Learning Classifier\r\n",
    "\r\n",
    "* Create an Evaluation Report\r\n",
    "\r\n",
    "#### Establish a Baseline Performance\r\n",
    "\r\n",
    "In this section, you’ll run the provided starter code to establish a baseline performance for the trading algorithm. To do so, complete the following steps.\r\n",
    "\r\n",
    "Open the Jupyter notebook. Restart the kernel, run the provided cells that correspond with the first three steps, and then proceed to step four. \r\n",
    "\r\n",
    "1. Import the OHLCV dataset into a Pandas DataFrame.\r\n",
    "\r\n",
    "2. Generate trading signals using short- and long-window SMA values. \r\n",
    "\r\n",
    "3. Split the data into training and testing datasets.\r\n",
    "\r\n",
    "4. Use the `SVC` classifier model from SKLearn's support vector machine (SVM) learning method to fit the training data and make predictions based on the testing data. Review the predictions.\r\n",
    "\r\n",
    "5. Review the classification report associated with the `SVC` model predictions. \r\n",
    "\r\n",
    "6. Create a predictions DataFrame that contains columns for “Predicted” values, “Actual Returns”, and “Strategy Returns”.\r\n",
    "\r\n",
    "7. Create a cumulative return plot that shows the actual returns vs. the strategy returns. Save a PNG image of this plot. This will serve as a baseline against which to compare the effects of tuning the trading algorithm.\r\n",
    "\r\n",
    "8. Write your conclusions about the performance of the baseline trading algorithm in the `README.md` file that’s associated with your GitHub repository. Support your findings by using the PNG image that you saved in the previous step.\r\n",
    "\r\n",
    "#### Tune the Baseline Trading Algorithm\r\n",
    "\r\n",
    "In this section, you’ll tune, or adjust, the model’s input features to find the parameters that result in the best trading outcomes. (You’ll choose the best by comparing the cumulative products of the strategy returns.) To do so, complete the following steps:\r\n",
    "\r\n",
    "1. Tune the training algorithm by adjusting the size of the training dataset. To do so, slice your data into different periods. Rerun the notebook with the updated parameters, and record the results in your `README.md` file. Answer the following question: What impact resulted from increasing or decreasing the training window?\r\n",
    "\r\n",
    "> **Hint** To adjust the size of the training dataset, you can use a different `DateOffset` value&mdash;for example, six months. Be aware that changing the size of the training dataset also affects the size of the testing dataset.\r\n",
    "\r\n",
    "2. Tune the trading algorithm by adjusting the SMA input features. Adjust one or both of the windows for the algorithm. Rerun the notebook with the updated parameters, and record the results in your `README.md` file. Answer the following question: What impact resulted from increasing or decreasing either or both of the SMA windows?\r\n",
    "\r\n",
    "3. Choose the set of parameters that best improved the trading algorithm returns. Save a PNG image of the cumulative product of the actual returns vs. the strategy returns, and document your conclusion in your `README.md` file.\r\n",
    "\r\n",
    "#### Evaluate a New Machine Learning Classifier\r\n",
    "\r\n",
    "In this section, you’ll use the original parameters that the starter code provided. But, you’ll apply them to the performance of a second machine learning model. To do so, complete the following steps:\r\n",
    "\r\n",
    "1. Import a new classifier, such as `AdaBoost`, `DecisionTreeClassifier`, or `LogisticRegression`. (For the full list of classifiers, refer to the [Supervised learning page](https://scikit-learn.org/stable/supervised_learning.html) in the scikit-learn documentation.)\r\n",
    "\r\n",
    "2. Using the original training data as the baseline model, fit another model with the new classifier.\r\n",
    "\r\n",
    "3. Backtest the new model to evaluate its performance. Save a PNG image of the cumulative product of the actual returns vs. the strategy returns for this updated trading algorithm, and write your conclusions in your `README.md` file. Answer the following questions: Did this new model perform better or worse than the provided baseline model? Did this new model perform better or worse than your tuned trading algorithm?\r\n",
    "\r\n",
    "#### Create an Evaluation Report\r\n",
    "\r\n",
    "In the previous sections, you updated your `README.md` file with your conclusions. To accomplish this section, you need to add a summary evaluation report at the end of the `README.md` file. For this report, express your final conclusions and analysis. Support your findings by using the PNG images that you created.\r\n"
   ],
   "metadata": {}
  },
  {
   "cell_type": "code",
   "execution_count": 195,
   "source": [
    "# Imports\r\n",
    "import pandas as pd\r\n",
    "import numpy as np\r\n",
    "from pathlib import Path\r\n",
    "import hvplot.pandas\r\n",
    "import matplotlib.pyplot as plt\r\n",
    "from sklearn import svm\r\n",
    "from sklearn.preprocessing import StandardScaler\r\n",
    "from pandas.tseries.offsets import DateOffset\r\n",
    "from sklearn.metrics import classification_report\r\n"
   ],
   "outputs": [],
   "metadata": {}
  },
  {
   "cell_type": "markdown",
   "source": [
    "---\n",
    "\n",
    "## Establish a Baseline Performance\n",
    "\n",
    "In this section, you’ll run the provided starter code to establish a baseline performance for the trading algorithm. To do so, complete the following steps.\n",
    "\n",
    "Open the Jupyter notebook. Restart the kernel, run the provided cells that correspond with the first three steps, and then proceed to step four. \n"
   ],
   "metadata": {}
  },
  {
   "cell_type": "markdown",
   "source": [
    "### Step 1: mport the OHLCV dataset into a Pandas DataFrame."
   ],
   "metadata": {}
  },
  {
   "cell_type": "code",
   "execution_count": 196,
   "source": [
    "# Import the OHLCV dataset into a Pandas Dataframe\r\n",
    "ohlcv_df = pd.read_csv(\r\n",
    "    Path(\"./Resources/emerging_markets_ohlcv.csv\"), \r\n",
    "    index_col='date', \r\n",
    "    infer_datetime_format=True, \r\n",
    "    parse_dates=True\r\n",
    ")\r\n",
    "\r\n",
    "# Review the DataFrame\r\n",
    "ohlcv_df.head()"
   ],
   "outputs": [
    {
     "output_type": "execute_result",
     "data": {
      "text/html": [
       "<div>\n",
       "<style scoped>\n",
       "    .dataframe tbody tr th:only-of-type {\n",
       "        vertical-align: middle;\n",
       "    }\n",
       "\n",
       "    .dataframe tbody tr th {\n",
       "        vertical-align: top;\n",
       "    }\n",
       "\n",
       "    .dataframe thead th {\n",
       "        text-align: right;\n",
       "    }\n",
       "</style>\n",
       "<table border=\"1\" class=\"dataframe\">\n",
       "  <thead>\n",
       "    <tr style=\"text-align: right;\">\n",
       "      <th></th>\n",
       "      <th>open</th>\n",
       "      <th>high</th>\n",
       "      <th>low</th>\n",
       "      <th>close</th>\n",
       "      <th>volume</th>\n",
       "    </tr>\n",
       "    <tr>\n",
       "      <th>date</th>\n",
       "      <th></th>\n",
       "      <th></th>\n",
       "      <th></th>\n",
       "      <th></th>\n",
       "      <th></th>\n",
       "    </tr>\n",
       "  </thead>\n",
       "  <tbody>\n",
       "    <tr>\n",
       "      <th>2015-01-21 09:30:00</th>\n",
       "      <td>23.83</td>\n",
       "      <td>23.83</td>\n",
       "      <td>23.83</td>\n",
       "      <td>23.83</td>\n",
       "      <td>100</td>\n",
       "    </tr>\n",
       "    <tr>\n",
       "      <th>2015-01-21 11:00:00</th>\n",
       "      <td>23.98</td>\n",
       "      <td>23.98</td>\n",
       "      <td>23.98</td>\n",
       "      <td>23.98</td>\n",
       "      <td>100</td>\n",
       "    </tr>\n",
       "    <tr>\n",
       "      <th>2015-01-22 15:00:00</th>\n",
       "      <td>24.42</td>\n",
       "      <td>24.42</td>\n",
       "      <td>24.42</td>\n",
       "      <td>24.42</td>\n",
       "      <td>100</td>\n",
       "    </tr>\n",
       "    <tr>\n",
       "      <th>2015-01-22 15:15:00</th>\n",
       "      <td>24.42</td>\n",
       "      <td>24.44</td>\n",
       "      <td>24.42</td>\n",
       "      <td>24.44</td>\n",
       "      <td>200</td>\n",
       "    </tr>\n",
       "    <tr>\n",
       "      <th>2015-01-22 15:30:00</th>\n",
       "      <td>24.46</td>\n",
       "      <td>24.46</td>\n",
       "      <td>24.46</td>\n",
       "      <td>24.46</td>\n",
       "      <td>200</td>\n",
       "    </tr>\n",
       "  </tbody>\n",
       "</table>\n",
       "</div>"
      ],
      "text/plain": [
       "                      open   high    low  close  volume\n",
       "date                                                   \n",
       "2015-01-21 09:30:00  23.83  23.83  23.83  23.83     100\n",
       "2015-01-21 11:00:00  23.98  23.98  23.98  23.98     100\n",
       "2015-01-22 15:00:00  24.42  24.42  24.42  24.42     100\n",
       "2015-01-22 15:15:00  24.42  24.44  24.42  24.44     200\n",
       "2015-01-22 15:30:00  24.46  24.46  24.46  24.46     200"
      ]
     },
     "metadata": {},
     "execution_count": 196
    }
   ],
   "metadata": {}
  },
  {
   "cell_type": "code",
   "execution_count": 197,
   "source": [
    "# Filter the date index and close columns\r\n",
    "signals_df = ohlcv_df.loc[:, [\"close\"]]\r\n",
    "\r\n",
    "# Use the pct_change function to generate  returns from close prices\r\n",
    "signals_df[\"Actual Returns\"] = signals_df[\"close\"].pct_change()\r\n",
    "\r\n",
    "# Drop all NaN values from the DataFrame\r\n",
    "signals_df = signals_df.dropna()\r\n",
    "\r\n",
    "# Review the DataFrame\r\n",
    "display(signals_df.head())\r\n",
    "display(signals_df.tail())"
   ],
   "outputs": [
    {
     "output_type": "display_data",
     "data": {
      "text/html": [
       "<div>\n",
       "<style scoped>\n",
       "    .dataframe tbody tr th:only-of-type {\n",
       "        vertical-align: middle;\n",
       "    }\n",
       "\n",
       "    .dataframe tbody tr th {\n",
       "        vertical-align: top;\n",
       "    }\n",
       "\n",
       "    .dataframe thead th {\n",
       "        text-align: right;\n",
       "    }\n",
       "</style>\n",
       "<table border=\"1\" class=\"dataframe\">\n",
       "  <thead>\n",
       "    <tr style=\"text-align: right;\">\n",
       "      <th></th>\n",
       "      <th>close</th>\n",
       "      <th>Actual Returns</th>\n",
       "    </tr>\n",
       "    <tr>\n",
       "      <th>date</th>\n",
       "      <th></th>\n",
       "      <th></th>\n",
       "    </tr>\n",
       "  </thead>\n",
       "  <tbody>\n",
       "    <tr>\n",
       "      <th>2015-01-21 11:00:00</th>\n",
       "      <td>23.98</td>\n",
       "      <td>0.006295</td>\n",
       "    </tr>\n",
       "    <tr>\n",
       "      <th>2015-01-22 15:00:00</th>\n",
       "      <td>24.42</td>\n",
       "      <td>0.018349</td>\n",
       "    </tr>\n",
       "    <tr>\n",
       "      <th>2015-01-22 15:15:00</th>\n",
       "      <td>24.44</td>\n",
       "      <td>0.000819</td>\n",
       "    </tr>\n",
       "    <tr>\n",
       "      <th>2015-01-22 15:30:00</th>\n",
       "      <td>24.46</td>\n",
       "      <td>0.000818</td>\n",
       "    </tr>\n",
       "    <tr>\n",
       "      <th>2015-01-26 12:30:00</th>\n",
       "      <td>24.33</td>\n",
       "      <td>-0.005315</td>\n",
       "    </tr>\n",
       "  </tbody>\n",
       "</table>\n",
       "</div>"
      ],
      "text/plain": [
       "                     close  Actual Returns\n",
       "date                                      \n",
       "2015-01-21 11:00:00  23.98        0.006295\n",
       "2015-01-22 15:00:00  24.42        0.018349\n",
       "2015-01-22 15:15:00  24.44        0.000819\n",
       "2015-01-22 15:30:00  24.46        0.000818\n",
       "2015-01-26 12:30:00  24.33       -0.005315"
      ]
     },
     "metadata": {}
    },
    {
     "output_type": "display_data",
     "data": {
      "text/html": [
       "<div>\n",
       "<style scoped>\n",
       "    .dataframe tbody tr th:only-of-type {\n",
       "        vertical-align: middle;\n",
       "    }\n",
       "\n",
       "    .dataframe tbody tr th {\n",
       "        vertical-align: top;\n",
       "    }\n",
       "\n",
       "    .dataframe thead th {\n",
       "        text-align: right;\n",
       "    }\n",
       "</style>\n",
       "<table border=\"1\" class=\"dataframe\">\n",
       "  <thead>\n",
       "    <tr style=\"text-align: right;\">\n",
       "      <th></th>\n",
       "      <th>close</th>\n",
       "      <th>Actual Returns</th>\n",
       "    </tr>\n",
       "    <tr>\n",
       "      <th>date</th>\n",
       "      <th></th>\n",
       "      <th></th>\n",
       "    </tr>\n",
       "  </thead>\n",
       "  <tbody>\n",
       "    <tr>\n",
       "      <th>2021-01-22 09:30:00</th>\n",
       "      <td>33.27</td>\n",
       "      <td>-0.006866</td>\n",
       "    </tr>\n",
       "    <tr>\n",
       "      <th>2021-01-22 11:30:00</th>\n",
       "      <td>33.35</td>\n",
       "      <td>0.002405</td>\n",
       "    </tr>\n",
       "    <tr>\n",
       "      <th>2021-01-22 13:45:00</th>\n",
       "      <td>33.42</td>\n",
       "      <td>0.002099</td>\n",
       "    </tr>\n",
       "    <tr>\n",
       "      <th>2021-01-22 14:30:00</th>\n",
       "      <td>33.47</td>\n",
       "      <td>0.001496</td>\n",
       "    </tr>\n",
       "    <tr>\n",
       "      <th>2021-01-22 15:45:00</th>\n",
       "      <td>33.44</td>\n",
       "      <td>-0.000896</td>\n",
       "    </tr>\n",
       "  </tbody>\n",
       "</table>\n",
       "</div>"
      ],
      "text/plain": [
       "                     close  Actual Returns\n",
       "date                                      \n",
       "2021-01-22 09:30:00  33.27       -0.006866\n",
       "2021-01-22 11:30:00  33.35        0.002405\n",
       "2021-01-22 13:45:00  33.42        0.002099\n",
       "2021-01-22 14:30:00  33.47        0.001496\n",
       "2021-01-22 15:45:00  33.44       -0.000896"
      ]
     },
     "metadata": {}
    }
   ],
   "metadata": {}
  },
  {
   "cell_type": "markdown",
   "source": [
    "## Step 2: Generate trading signals using short- and long-window SMA values. "
   ],
   "metadata": {}
  },
  {
   "cell_type": "code",
   "execution_count": 198,
   "source": [
    "# Set the short window and long window\r\n",
    "short_window = 4\r\n",
    "long_window = 100\r\n",
    "\r\n",
    "# Generate the fast and slow simple moving averages (4 and 100 days, respectively)\r\n",
    "signals_df['SMA_Fast'] = signals_df['close'].rolling(window=short_window).mean()\r\n",
    "signals_df['SMA_Slow'] = signals_df['close'].rolling(window=long_window).mean()\r\n",
    "\r\n",
    "signals_df = signals_df.dropna()\r\n",
    "\r\n",
    "# Review the DataFrame\r\n",
    "display(signals_df.head())\r\n",
    "display(signals_df.tail())"
   ],
   "outputs": [
    {
     "output_type": "display_data",
     "data": {
      "text/html": [
       "<div>\n",
       "<style scoped>\n",
       "    .dataframe tbody tr th:only-of-type {\n",
       "        vertical-align: middle;\n",
       "    }\n",
       "\n",
       "    .dataframe tbody tr th {\n",
       "        vertical-align: top;\n",
       "    }\n",
       "\n",
       "    .dataframe thead th {\n",
       "        text-align: right;\n",
       "    }\n",
       "</style>\n",
       "<table border=\"1\" class=\"dataframe\">\n",
       "  <thead>\n",
       "    <tr style=\"text-align: right;\">\n",
       "      <th></th>\n",
       "      <th>close</th>\n",
       "      <th>Actual Returns</th>\n",
       "      <th>SMA_Fast</th>\n",
       "      <th>SMA_Slow</th>\n",
       "    </tr>\n",
       "    <tr>\n",
       "      <th>date</th>\n",
       "      <th></th>\n",
       "      <th></th>\n",
       "      <th></th>\n",
       "      <th></th>\n",
       "    </tr>\n",
       "  </thead>\n",
       "  <tbody>\n",
       "    <tr>\n",
       "      <th>2015-04-02 14:45:00</th>\n",
       "      <td>24.92</td>\n",
       "      <td>0.000000</td>\n",
       "      <td>24.9175</td>\n",
       "      <td>24.3214</td>\n",
       "    </tr>\n",
       "    <tr>\n",
       "      <th>2015-04-02 15:00:00</th>\n",
       "      <td>24.92</td>\n",
       "      <td>0.000000</td>\n",
       "      <td>24.9200</td>\n",
       "      <td>24.3308</td>\n",
       "    </tr>\n",
       "    <tr>\n",
       "      <th>2015-04-02 15:15:00</th>\n",
       "      <td>24.94</td>\n",
       "      <td>0.000803</td>\n",
       "      <td>24.9250</td>\n",
       "      <td>24.3360</td>\n",
       "    </tr>\n",
       "    <tr>\n",
       "      <th>2015-04-02 15:30:00</th>\n",
       "      <td>24.95</td>\n",
       "      <td>0.000401</td>\n",
       "      <td>24.9325</td>\n",
       "      <td>24.3411</td>\n",
       "    </tr>\n",
       "    <tr>\n",
       "      <th>2015-04-02 15:45:00</th>\n",
       "      <td>24.98</td>\n",
       "      <td>0.001202</td>\n",
       "      <td>24.9475</td>\n",
       "      <td>24.3463</td>\n",
       "    </tr>\n",
       "  </tbody>\n",
       "</table>\n",
       "</div>"
      ],
      "text/plain": [
       "                     close  Actual Returns  SMA_Fast  SMA_Slow\n",
       "date                                                          \n",
       "2015-04-02 14:45:00  24.92        0.000000   24.9175   24.3214\n",
       "2015-04-02 15:00:00  24.92        0.000000   24.9200   24.3308\n",
       "2015-04-02 15:15:00  24.94        0.000803   24.9250   24.3360\n",
       "2015-04-02 15:30:00  24.95        0.000401   24.9325   24.3411\n",
       "2015-04-02 15:45:00  24.98        0.001202   24.9475   24.3463"
      ]
     },
     "metadata": {}
    },
    {
     "output_type": "display_data",
     "data": {
      "text/html": [
       "<div>\n",
       "<style scoped>\n",
       "    .dataframe tbody tr th:only-of-type {\n",
       "        vertical-align: middle;\n",
       "    }\n",
       "\n",
       "    .dataframe tbody tr th {\n",
       "        vertical-align: top;\n",
       "    }\n",
       "\n",
       "    .dataframe thead th {\n",
       "        text-align: right;\n",
       "    }\n",
       "</style>\n",
       "<table border=\"1\" class=\"dataframe\">\n",
       "  <thead>\n",
       "    <tr style=\"text-align: right;\">\n",
       "      <th></th>\n",
       "      <th>close</th>\n",
       "      <th>Actual Returns</th>\n",
       "      <th>SMA_Fast</th>\n",
       "      <th>SMA_Slow</th>\n",
       "    </tr>\n",
       "    <tr>\n",
       "      <th>date</th>\n",
       "      <th></th>\n",
       "      <th></th>\n",
       "      <th></th>\n",
       "      <th></th>\n",
       "    </tr>\n",
       "  </thead>\n",
       "  <tbody>\n",
       "    <tr>\n",
       "      <th>2021-01-22 09:30:00</th>\n",
       "      <td>33.27</td>\n",
       "      <td>-0.006866</td>\n",
       "      <td>33.2025</td>\n",
       "      <td>30.40215</td>\n",
       "    </tr>\n",
       "    <tr>\n",
       "      <th>2021-01-22 11:30:00</th>\n",
       "      <td>33.35</td>\n",
       "      <td>0.002405</td>\n",
       "      <td>33.2725</td>\n",
       "      <td>30.44445</td>\n",
       "    </tr>\n",
       "    <tr>\n",
       "      <th>2021-01-22 13:45:00</th>\n",
       "      <td>33.42</td>\n",
       "      <td>0.002099</td>\n",
       "      <td>33.3850</td>\n",
       "      <td>30.48745</td>\n",
       "    </tr>\n",
       "    <tr>\n",
       "      <th>2021-01-22 14:30:00</th>\n",
       "      <td>33.47</td>\n",
       "      <td>0.001496</td>\n",
       "      <td>33.3775</td>\n",
       "      <td>30.53085</td>\n",
       "    </tr>\n",
       "    <tr>\n",
       "      <th>2021-01-22 15:45:00</th>\n",
       "      <td>33.44</td>\n",
       "      <td>-0.000896</td>\n",
       "      <td>33.4200</td>\n",
       "      <td>30.57495</td>\n",
       "    </tr>\n",
       "  </tbody>\n",
       "</table>\n",
       "</div>"
      ],
      "text/plain": [
       "                     close  Actual Returns  SMA_Fast  SMA_Slow\n",
       "date                                                          \n",
       "2021-01-22 09:30:00  33.27       -0.006866   33.2025  30.40215\n",
       "2021-01-22 11:30:00  33.35        0.002405   33.2725  30.44445\n",
       "2021-01-22 13:45:00  33.42        0.002099   33.3850  30.48745\n",
       "2021-01-22 14:30:00  33.47        0.001496   33.3775  30.53085\n",
       "2021-01-22 15:45:00  33.44       -0.000896   33.4200  30.57495"
      ]
     },
     "metadata": {}
    }
   ],
   "metadata": {}
  },
  {
   "cell_type": "code",
   "execution_count": 199,
   "source": [
    "# Initialize the new Signal column\r\n",
    "signals_df['Signal'] = 0.0\r\n",
    "\r\n",
    "# When Actual Returns are greater than or equal to 0, generate signal to buy stock long\r\n",
    "signals_df.loc[(signals_df['Actual Returns'] >= 0), 'Signal'] = 1\r\n",
    "\r\n",
    "# When Actual Returns are less than 0, generate signal to sell stock short\r\n",
    "signals_df.loc[(signals_df['Actual Returns'] < 0), 'Signal'] = -1\r\n",
    "\r\n",
    "# Review the DataFrame\r\n",
    "display(signals_df.head())\r\n",
    "display(signals_df.tail())"
   ],
   "outputs": [
    {
     "output_type": "display_data",
     "data": {
      "text/html": [
       "<div>\n",
       "<style scoped>\n",
       "    .dataframe tbody tr th:only-of-type {\n",
       "        vertical-align: middle;\n",
       "    }\n",
       "\n",
       "    .dataframe tbody tr th {\n",
       "        vertical-align: top;\n",
       "    }\n",
       "\n",
       "    .dataframe thead th {\n",
       "        text-align: right;\n",
       "    }\n",
       "</style>\n",
       "<table border=\"1\" class=\"dataframe\">\n",
       "  <thead>\n",
       "    <tr style=\"text-align: right;\">\n",
       "      <th></th>\n",
       "      <th>close</th>\n",
       "      <th>Actual Returns</th>\n",
       "      <th>SMA_Fast</th>\n",
       "      <th>SMA_Slow</th>\n",
       "      <th>Signal</th>\n",
       "    </tr>\n",
       "    <tr>\n",
       "      <th>date</th>\n",
       "      <th></th>\n",
       "      <th></th>\n",
       "      <th></th>\n",
       "      <th></th>\n",
       "      <th></th>\n",
       "    </tr>\n",
       "  </thead>\n",
       "  <tbody>\n",
       "    <tr>\n",
       "      <th>2015-04-02 14:45:00</th>\n",
       "      <td>24.92</td>\n",
       "      <td>0.000000</td>\n",
       "      <td>24.9175</td>\n",
       "      <td>24.3214</td>\n",
       "      <td>1.0</td>\n",
       "    </tr>\n",
       "    <tr>\n",
       "      <th>2015-04-02 15:00:00</th>\n",
       "      <td>24.92</td>\n",
       "      <td>0.000000</td>\n",
       "      <td>24.9200</td>\n",
       "      <td>24.3308</td>\n",
       "      <td>1.0</td>\n",
       "    </tr>\n",
       "    <tr>\n",
       "      <th>2015-04-02 15:15:00</th>\n",
       "      <td>24.94</td>\n",
       "      <td>0.000803</td>\n",
       "      <td>24.9250</td>\n",
       "      <td>24.3360</td>\n",
       "      <td>1.0</td>\n",
       "    </tr>\n",
       "    <tr>\n",
       "      <th>2015-04-02 15:30:00</th>\n",
       "      <td>24.95</td>\n",
       "      <td>0.000401</td>\n",
       "      <td>24.9325</td>\n",
       "      <td>24.3411</td>\n",
       "      <td>1.0</td>\n",
       "    </tr>\n",
       "    <tr>\n",
       "      <th>2015-04-02 15:45:00</th>\n",
       "      <td>24.98</td>\n",
       "      <td>0.001202</td>\n",
       "      <td>24.9475</td>\n",
       "      <td>24.3463</td>\n",
       "      <td>1.0</td>\n",
       "    </tr>\n",
       "  </tbody>\n",
       "</table>\n",
       "</div>"
      ],
      "text/plain": [
       "                     close  Actual Returns  SMA_Fast  SMA_Slow  Signal\n",
       "date                                                                  \n",
       "2015-04-02 14:45:00  24.92        0.000000   24.9175   24.3214     1.0\n",
       "2015-04-02 15:00:00  24.92        0.000000   24.9200   24.3308     1.0\n",
       "2015-04-02 15:15:00  24.94        0.000803   24.9250   24.3360     1.0\n",
       "2015-04-02 15:30:00  24.95        0.000401   24.9325   24.3411     1.0\n",
       "2015-04-02 15:45:00  24.98        0.001202   24.9475   24.3463     1.0"
      ]
     },
     "metadata": {}
    },
    {
     "output_type": "display_data",
     "data": {
      "text/html": [
       "<div>\n",
       "<style scoped>\n",
       "    .dataframe tbody tr th:only-of-type {\n",
       "        vertical-align: middle;\n",
       "    }\n",
       "\n",
       "    .dataframe tbody tr th {\n",
       "        vertical-align: top;\n",
       "    }\n",
       "\n",
       "    .dataframe thead th {\n",
       "        text-align: right;\n",
       "    }\n",
       "</style>\n",
       "<table border=\"1\" class=\"dataframe\">\n",
       "  <thead>\n",
       "    <tr style=\"text-align: right;\">\n",
       "      <th></th>\n",
       "      <th>close</th>\n",
       "      <th>Actual Returns</th>\n",
       "      <th>SMA_Fast</th>\n",
       "      <th>SMA_Slow</th>\n",
       "      <th>Signal</th>\n",
       "    </tr>\n",
       "    <tr>\n",
       "      <th>date</th>\n",
       "      <th></th>\n",
       "      <th></th>\n",
       "      <th></th>\n",
       "      <th></th>\n",
       "      <th></th>\n",
       "    </tr>\n",
       "  </thead>\n",
       "  <tbody>\n",
       "    <tr>\n",
       "      <th>2021-01-22 09:30:00</th>\n",
       "      <td>33.27</td>\n",
       "      <td>-0.006866</td>\n",
       "      <td>33.2025</td>\n",
       "      <td>30.40215</td>\n",
       "      <td>-1.0</td>\n",
       "    </tr>\n",
       "    <tr>\n",
       "      <th>2021-01-22 11:30:00</th>\n",
       "      <td>33.35</td>\n",
       "      <td>0.002405</td>\n",
       "      <td>33.2725</td>\n",
       "      <td>30.44445</td>\n",
       "      <td>1.0</td>\n",
       "    </tr>\n",
       "    <tr>\n",
       "      <th>2021-01-22 13:45:00</th>\n",
       "      <td>33.42</td>\n",
       "      <td>0.002099</td>\n",
       "      <td>33.3850</td>\n",
       "      <td>30.48745</td>\n",
       "      <td>1.0</td>\n",
       "    </tr>\n",
       "    <tr>\n",
       "      <th>2021-01-22 14:30:00</th>\n",
       "      <td>33.47</td>\n",
       "      <td>0.001496</td>\n",
       "      <td>33.3775</td>\n",
       "      <td>30.53085</td>\n",
       "      <td>1.0</td>\n",
       "    </tr>\n",
       "    <tr>\n",
       "      <th>2021-01-22 15:45:00</th>\n",
       "      <td>33.44</td>\n",
       "      <td>-0.000896</td>\n",
       "      <td>33.4200</td>\n",
       "      <td>30.57495</td>\n",
       "      <td>-1.0</td>\n",
       "    </tr>\n",
       "  </tbody>\n",
       "</table>\n",
       "</div>"
      ],
      "text/plain": [
       "                     close  Actual Returns  SMA_Fast  SMA_Slow  Signal\n",
       "date                                                                  \n",
       "2021-01-22 09:30:00  33.27       -0.006866   33.2025  30.40215    -1.0\n",
       "2021-01-22 11:30:00  33.35        0.002405   33.2725  30.44445     1.0\n",
       "2021-01-22 13:45:00  33.42        0.002099   33.3850  30.48745     1.0\n",
       "2021-01-22 14:30:00  33.47        0.001496   33.3775  30.53085     1.0\n",
       "2021-01-22 15:45:00  33.44       -0.000896   33.4200  30.57495    -1.0"
      ]
     },
     "metadata": {}
    }
   ],
   "metadata": {}
  },
  {
   "cell_type": "code",
   "execution_count": 200,
   "source": [
    "signals_df['Signal'].value_counts()"
   ],
   "outputs": [
    {
     "output_type": "execute_result",
     "data": {
      "text/plain": [
       " 1.0    2368\n",
       "-1.0    1855\n",
       "Name: Signal, dtype: int64"
      ]
     },
     "metadata": {},
     "execution_count": 200
    }
   ],
   "metadata": {}
  },
  {
   "cell_type": "code",
   "execution_count": 201,
   "source": [
    "# Calculate the strategy returns and add them to the signals_df DataFrame\r\n",
    "signals_df['Strategy Returns'] = signals_df['Actual Returns'] * signals_df['Signal'].shift()\r\n",
    "\r\n",
    "# Review the DataFrame\r\n",
    "display(signals_df.head())\r\n",
    "display(signals_df.tail())"
   ],
   "outputs": [
    {
     "output_type": "display_data",
     "data": {
      "text/html": [
       "<div>\n",
       "<style scoped>\n",
       "    .dataframe tbody tr th:only-of-type {\n",
       "        vertical-align: middle;\n",
       "    }\n",
       "\n",
       "    .dataframe tbody tr th {\n",
       "        vertical-align: top;\n",
       "    }\n",
       "\n",
       "    .dataframe thead th {\n",
       "        text-align: right;\n",
       "    }\n",
       "</style>\n",
       "<table border=\"1\" class=\"dataframe\">\n",
       "  <thead>\n",
       "    <tr style=\"text-align: right;\">\n",
       "      <th></th>\n",
       "      <th>close</th>\n",
       "      <th>Actual Returns</th>\n",
       "      <th>SMA_Fast</th>\n",
       "      <th>SMA_Slow</th>\n",
       "      <th>Signal</th>\n",
       "      <th>Strategy Returns</th>\n",
       "    </tr>\n",
       "    <tr>\n",
       "      <th>date</th>\n",
       "      <th></th>\n",
       "      <th></th>\n",
       "      <th></th>\n",
       "      <th></th>\n",
       "      <th></th>\n",
       "      <th></th>\n",
       "    </tr>\n",
       "  </thead>\n",
       "  <tbody>\n",
       "    <tr>\n",
       "      <th>2015-04-02 14:45:00</th>\n",
       "      <td>24.92</td>\n",
       "      <td>0.000000</td>\n",
       "      <td>24.9175</td>\n",
       "      <td>24.3214</td>\n",
       "      <td>1.0</td>\n",
       "      <td>NaN</td>\n",
       "    </tr>\n",
       "    <tr>\n",
       "      <th>2015-04-02 15:00:00</th>\n",
       "      <td>24.92</td>\n",
       "      <td>0.000000</td>\n",
       "      <td>24.9200</td>\n",
       "      <td>24.3308</td>\n",
       "      <td>1.0</td>\n",
       "      <td>0.000000</td>\n",
       "    </tr>\n",
       "    <tr>\n",
       "      <th>2015-04-02 15:15:00</th>\n",
       "      <td>24.94</td>\n",
       "      <td>0.000803</td>\n",
       "      <td>24.9250</td>\n",
       "      <td>24.3360</td>\n",
       "      <td>1.0</td>\n",
       "      <td>0.000803</td>\n",
       "    </tr>\n",
       "    <tr>\n",
       "      <th>2015-04-02 15:30:00</th>\n",
       "      <td>24.95</td>\n",
       "      <td>0.000401</td>\n",
       "      <td>24.9325</td>\n",
       "      <td>24.3411</td>\n",
       "      <td>1.0</td>\n",
       "      <td>0.000401</td>\n",
       "    </tr>\n",
       "    <tr>\n",
       "      <th>2015-04-02 15:45:00</th>\n",
       "      <td>24.98</td>\n",
       "      <td>0.001202</td>\n",
       "      <td>24.9475</td>\n",
       "      <td>24.3463</td>\n",
       "      <td>1.0</td>\n",
       "      <td>0.001202</td>\n",
       "    </tr>\n",
       "  </tbody>\n",
       "</table>\n",
       "</div>"
      ],
      "text/plain": [
       "                     close  Actual Returns  SMA_Fast  SMA_Slow  Signal  \\\n",
       "date                                                                     \n",
       "2015-04-02 14:45:00  24.92        0.000000   24.9175   24.3214     1.0   \n",
       "2015-04-02 15:00:00  24.92        0.000000   24.9200   24.3308     1.0   \n",
       "2015-04-02 15:15:00  24.94        0.000803   24.9250   24.3360     1.0   \n",
       "2015-04-02 15:30:00  24.95        0.000401   24.9325   24.3411     1.0   \n",
       "2015-04-02 15:45:00  24.98        0.001202   24.9475   24.3463     1.0   \n",
       "\n",
       "                     Strategy Returns  \n",
       "date                                   \n",
       "2015-04-02 14:45:00               NaN  \n",
       "2015-04-02 15:00:00          0.000000  \n",
       "2015-04-02 15:15:00          0.000803  \n",
       "2015-04-02 15:30:00          0.000401  \n",
       "2015-04-02 15:45:00          0.001202  "
      ]
     },
     "metadata": {}
    },
    {
     "output_type": "display_data",
     "data": {
      "text/html": [
       "<div>\n",
       "<style scoped>\n",
       "    .dataframe tbody tr th:only-of-type {\n",
       "        vertical-align: middle;\n",
       "    }\n",
       "\n",
       "    .dataframe tbody tr th {\n",
       "        vertical-align: top;\n",
       "    }\n",
       "\n",
       "    .dataframe thead th {\n",
       "        text-align: right;\n",
       "    }\n",
       "</style>\n",
       "<table border=\"1\" class=\"dataframe\">\n",
       "  <thead>\n",
       "    <tr style=\"text-align: right;\">\n",
       "      <th></th>\n",
       "      <th>close</th>\n",
       "      <th>Actual Returns</th>\n",
       "      <th>SMA_Fast</th>\n",
       "      <th>SMA_Slow</th>\n",
       "      <th>Signal</th>\n",
       "      <th>Strategy Returns</th>\n",
       "    </tr>\n",
       "    <tr>\n",
       "      <th>date</th>\n",
       "      <th></th>\n",
       "      <th></th>\n",
       "      <th></th>\n",
       "      <th></th>\n",
       "      <th></th>\n",
       "      <th></th>\n",
       "    </tr>\n",
       "  </thead>\n",
       "  <tbody>\n",
       "    <tr>\n",
       "      <th>2021-01-22 09:30:00</th>\n",
       "      <td>33.27</td>\n",
       "      <td>-0.006866</td>\n",
       "      <td>33.2025</td>\n",
       "      <td>30.40215</td>\n",
       "      <td>-1.0</td>\n",
       "      <td>-0.006866</td>\n",
       "    </tr>\n",
       "    <tr>\n",
       "      <th>2021-01-22 11:30:00</th>\n",
       "      <td>33.35</td>\n",
       "      <td>0.002405</td>\n",
       "      <td>33.2725</td>\n",
       "      <td>30.44445</td>\n",
       "      <td>1.0</td>\n",
       "      <td>-0.002405</td>\n",
       "    </tr>\n",
       "    <tr>\n",
       "      <th>2021-01-22 13:45:00</th>\n",
       "      <td>33.42</td>\n",
       "      <td>0.002099</td>\n",
       "      <td>33.3850</td>\n",
       "      <td>30.48745</td>\n",
       "      <td>1.0</td>\n",
       "      <td>0.002099</td>\n",
       "    </tr>\n",
       "    <tr>\n",
       "      <th>2021-01-22 14:30:00</th>\n",
       "      <td>33.47</td>\n",
       "      <td>0.001496</td>\n",
       "      <td>33.3775</td>\n",
       "      <td>30.53085</td>\n",
       "      <td>1.0</td>\n",
       "      <td>0.001496</td>\n",
       "    </tr>\n",
       "    <tr>\n",
       "      <th>2021-01-22 15:45:00</th>\n",
       "      <td>33.44</td>\n",
       "      <td>-0.000896</td>\n",
       "      <td>33.4200</td>\n",
       "      <td>30.57495</td>\n",
       "      <td>-1.0</td>\n",
       "      <td>-0.000896</td>\n",
       "    </tr>\n",
       "  </tbody>\n",
       "</table>\n",
       "</div>"
      ],
      "text/plain": [
       "                     close  Actual Returns  SMA_Fast  SMA_Slow  Signal  \\\n",
       "date                                                                     \n",
       "2021-01-22 09:30:00  33.27       -0.006866   33.2025  30.40215    -1.0   \n",
       "2021-01-22 11:30:00  33.35        0.002405   33.2725  30.44445     1.0   \n",
       "2021-01-22 13:45:00  33.42        0.002099   33.3850  30.48745     1.0   \n",
       "2021-01-22 14:30:00  33.47        0.001496   33.3775  30.53085     1.0   \n",
       "2021-01-22 15:45:00  33.44       -0.000896   33.4200  30.57495    -1.0   \n",
       "\n",
       "                     Strategy Returns  \n",
       "date                                   \n",
       "2021-01-22 09:30:00         -0.006866  \n",
       "2021-01-22 11:30:00         -0.002405  \n",
       "2021-01-22 13:45:00          0.002099  \n",
       "2021-01-22 14:30:00          0.001496  \n",
       "2021-01-22 15:45:00         -0.000896  "
      ]
     },
     "metadata": {}
    }
   ],
   "metadata": {}
  },
  {
   "cell_type": "code",
   "execution_count": 202,
   "source": [
    "# Plot Strategy Returns to examine performance\r\n",
    "(1 + signals_df['Strategy Returns']).cumprod().plot()"
   ],
   "outputs": [
    {
     "output_type": "execute_result",
     "data": {
      "text/plain": [
       "<AxesSubplot:xlabel='date'>"
      ]
     },
     "metadata": {},
     "execution_count": 202
    },
    {
     "output_type": "display_data",
     "data": {
      "image/png": "[encoded data removed]",
      "text/plain": [
       "<Figure size 432x288 with 1 Axes>"
      ]
     },
     "metadata": {
      "needs_background": "light"
     }
    }
   ],
   "metadata": {}
  },
  {
   "cell_type": "markdown",
   "source": [
    "### Step 3: Split the data into training and testing datasets."
   ],
   "metadata": {}
  },
  {
   "cell_type": "code",
   "execution_count": 203,
   "source": [
    "# Assign a copy of the sma_fast and sma_slow columns to a features DataFrame called X\r\n",
    "X = signals_df[['SMA_Fast', 'SMA_Slow']].shift().dropna()\r\n",
    "\r\n",
    "# Review the DataFrame\r\n",
    "X.head()"
   ],
   "outputs": [
    {
     "output_type": "execute_result",
     "data": {
      "text/html": [
       "<div>\n",
       "<style scoped>\n",
       "    .dataframe tbody tr th:only-of-type {\n",
       "        vertical-align: middle;\n",
       "    }\n",
       "\n",
       "    .dataframe tbody tr th {\n",
       "        vertical-align: top;\n",
       "    }\n",
       "\n",
       "    .dataframe thead th {\n",
       "        text-align: right;\n",
       "    }\n",
       "</style>\n",
       "<table border=\"1\" class=\"dataframe\">\n",
       "  <thead>\n",
       "    <tr style=\"text-align: right;\">\n",
       "      <th></th>\n",
       "      <th>SMA_Fast</th>\n",
       "      <th>SMA_Slow</th>\n",
       "    </tr>\n",
       "    <tr>\n",
       "      <th>date</th>\n",
       "      <th></th>\n",
       "      <th></th>\n",
       "    </tr>\n",
       "  </thead>\n",
       "  <tbody>\n",
       "    <tr>\n",
       "      <th>2015-04-02 15:00:00</th>\n",
       "      <td>24.9175</td>\n",
       "      <td>24.3214</td>\n",
       "    </tr>\n",
       "    <tr>\n",
       "      <th>2015-04-02 15:15:00</th>\n",
       "      <td>24.9200</td>\n",
       "      <td>24.3308</td>\n",
       "    </tr>\n",
       "    <tr>\n",
       "      <th>2015-04-02 15:30:00</th>\n",
       "      <td>24.9250</td>\n",
       "      <td>24.3360</td>\n",
       "    </tr>\n",
       "    <tr>\n",
       "      <th>2015-04-02 15:45:00</th>\n",
       "      <td>24.9325</td>\n",
       "      <td>24.3411</td>\n",
       "    </tr>\n",
       "    <tr>\n",
       "      <th>2015-04-06 09:30:00</th>\n",
       "      <td>24.9475</td>\n",
       "      <td>24.3463</td>\n",
       "    </tr>\n",
       "  </tbody>\n",
       "</table>\n",
       "</div>"
      ],
      "text/plain": [
       "                     SMA_Fast  SMA_Slow\n",
       "date                                   \n",
       "2015-04-02 15:00:00   24.9175   24.3214\n",
       "2015-04-02 15:15:00   24.9200   24.3308\n",
       "2015-04-02 15:30:00   24.9250   24.3360\n",
       "2015-04-02 15:45:00   24.9325   24.3411\n",
       "2015-04-06 09:30:00   24.9475   24.3463"
      ]
     },
     "metadata": {},
     "execution_count": 203
    }
   ],
   "metadata": {}
  },
  {
   "cell_type": "code",
   "execution_count": 204,
   "source": [
    "# Create the target set selecting the Signal column and assiging it to y\r\n",
    "y = signals_df['Signal']\r\n",
    "\r\n",
    "# Review the value counts\r\n",
    "y.value_counts()"
   ],
   "outputs": [
    {
     "output_type": "execute_result",
     "data": {
      "text/plain": [
       " 1.0    2368\n",
       "-1.0    1855\n",
       "Name: Signal, dtype: int64"
      ]
     },
     "metadata": {},
     "execution_count": 204
    }
   ],
   "metadata": {}
  },
  {
   "cell_type": "code",
   "execution_count": 205,
   "source": [
    "# Select the start of the training period\r\n",
    "training_begin = X.index.min()\r\n",
    "\r\n",
    "# Display the training begin date\r\n",
    "print(training_begin)"
   ],
   "outputs": [
    {
     "output_type": "stream",
     "name": "stdout",
     "text": [
      "2015-04-02 15:00:00\n"
     ]
    }
   ],
   "metadata": {}
  },
  {
   "cell_type": "code",
   "execution_count": 206,
   "source": [
    "# Select the ending period for the training data with an offset of 3 months\r\n",
    "training_end = X.index.min() + DateOffset(months=6)\r\n",
    "\r\n",
    "# Display the training end date\r\n",
    "print(training_end)"
   ],
   "outputs": [
    {
     "output_type": "stream",
     "name": "stdout",
     "text": [
      "2015-10-02 15:00:00\n"
     ]
    }
   ],
   "metadata": {}
  },
  {
   "cell_type": "code",
   "execution_count": 207,
   "source": [
    "# Generate the X_train and y_train DataFrames\r\n",
    "X_train = X.loc[training_begin:training_end]\r\n",
    "y_train = y.loc[training_begin:training_end]\r\n",
    "\r\n",
    "# Review the X_train DataFrame\r\n",
    "X_train.head()"
   ],
   "outputs": [
    {
     "output_type": "execute_result",
     "data": {
      "text/html": [
       "<div>\n",
       "<style scoped>\n",
       "    .dataframe tbody tr th:only-of-type {\n",
       "        vertical-align: middle;\n",
       "    }\n",
       "\n",
       "    .dataframe tbody tr th {\n",
       "        vertical-align: top;\n",
       "    }\n",
       "\n",
       "    .dataframe thead th {\n",
       "        text-align: right;\n",
       "    }\n",
       "</style>\n",
       "<table border=\"1\" class=\"dataframe\">\n",
       "  <thead>\n",
       "    <tr style=\"text-align: right;\">\n",
       "      <th></th>\n",
       "      <th>SMA_Fast</th>\n",
       "      <th>SMA_Slow</th>\n",
       "    </tr>\n",
       "    <tr>\n",
       "      <th>date</th>\n",
       "      <th></th>\n",
       "      <th></th>\n",
       "    </tr>\n",
       "  </thead>\n",
       "  <tbody>\n",
       "    <tr>\n",
       "      <th>2015-04-02 15:00:00</th>\n",
       "      <td>24.9175</td>\n",
       "      <td>24.3214</td>\n",
       "    </tr>\n",
       "    <tr>\n",
       "      <th>2015-04-02 15:15:00</th>\n",
       "      <td>24.9200</td>\n",
       "      <td>24.3308</td>\n",
       "    </tr>\n",
       "    <tr>\n",
       "      <th>2015-04-02 15:30:00</th>\n",
       "      <td>24.9250</td>\n",
       "      <td>24.3360</td>\n",
       "    </tr>\n",
       "    <tr>\n",
       "      <th>2015-04-02 15:45:00</th>\n",
       "      <td>24.9325</td>\n",
       "      <td>24.3411</td>\n",
       "    </tr>\n",
       "    <tr>\n",
       "      <th>2015-04-06 09:30:00</th>\n",
       "      <td>24.9475</td>\n",
       "      <td>24.3463</td>\n",
       "    </tr>\n",
       "  </tbody>\n",
       "</table>\n",
       "</div>"
      ],
      "text/plain": [
       "                     SMA_Fast  SMA_Slow\n",
       "date                                   \n",
       "2015-04-02 15:00:00   24.9175   24.3214\n",
       "2015-04-02 15:15:00   24.9200   24.3308\n",
       "2015-04-02 15:30:00   24.9250   24.3360\n",
       "2015-04-02 15:45:00   24.9325   24.3411\n",
       "2015-04-06 09:30:00   24.9475   24.3463"
      ]
     },
     "metadata": {},
     "execution_count": 207
    }
   ],
   "metadata": {}
  },
  {
   "cell_type": "code",
   "execution_count": 208,
   "source": [
    "# Generate the X_test and y_test DataFrames\r\n",
    "X_test = X.loc[training_end+DateOffset(hours=1):]\r\n",
    "y_test = y.loc[training_end+DateOffset(hours=1):]\r\n",
    "\r\n",
    "# Review the X_test DataFrame\r\n",
    "X_train.head()"
   ],
   "outputs": [
    {
     "output_type": "execute_result",
     "data": {
      "text/html": [
       "<div>\n",
       "<style scoped>\n",
       "    .dataframe tbody tr th:only-of-type {\n",
       "        vertical-align: middle;\n",
       "    }\n",
       "\n",
       "    .dataframe tbody tr th {\n",
       "        vertical-align: top;\n",
       "    }\n",
       "\n",
       "    .dataframe thead th {\n",
       "        text-align: right;\n",
       "    }\n",
       "</style>\n",
       "<table border=\"1\" class=\"dataframe\">\n",
       "  <thead>\n",
       "    <tr style=\"text-align: right;\">\n",
       "      <th></th>\n",
       "      <th>SMA_Fast</th>\n",
       "      <th>SMA_Slow</th>\n",
       "    </tr>\n",
       "    <tr>\n",
       "      <th>date</th>\n",
       "      <th></th>\n",
       "      <th></th>\n",
       "    </tr>\n",
       "  </thead>\n",
       "  <tbody>\n",
       "    <tr>\n",
       "      <th>2015-04-02 15:00:00</th>\n",
       "      <td>24.9175</td>\n",
       "      <td>24.3214</td>\n",
       "    </tr>\n",
       "    <tr>\n",
       "      <th>2015-04-02 15:15:00</th>\n",
       "      <td>24.9200</td>\n",
       "      <td>24.3308</td>\n",
       "    </tr>\n",
       "    <tr>\n",
       "      <th>2015-04-02 15:30:00</th>\n",
       "      <td>24.9250</td>\n",
       "      <td>24.3360</td>\n",
       "    </tr>\n",
       "    <tr>\n",
       "      <th>2015-04-02 15:45:00</th>\n",
       "      <td>24.9325</td>\n",
       "      <td>24.3411</td>\n",
       "    </tr>\n",
       "    <tr>\n",
       "      <th>2015-04-06 09:30:00</th>\n",
       "      <td>24.9475</td>\n",
       "      <td>24.3463</td>\n",
       "    </tr>\n",
       "  </tbody>\n",
       "</table>\n",
       "</div>"
      ],
      "text/plain": [
       "                     SMA_Fast  SMA_Slow\n",
       "date                                   \n",
       "2015-04-02 15:00:00   24.9175   24.3214\n",
       "2015-04-02 15:15:00   24.9200   24.3308\n",
       "2015-04-02 15:30:00   24.9250   24.3360\n",
       "2015-04-02 15:45:00   24.9325   24.3411\n",
       "2015-04-06 09:30:00   24.9475   24.3463"
      ]
     },
     "metadata": {},
     "execution_count": 208
    }
   ],
   "metadata": {}
  },
  {
   "cell_type": "code",
   "execution_count": 209,
   "source": [
    "# Scale the features DataFrames\r\n",
    "\r\n",
    "# Create a StandardScaler instance\r\n",
    "scaler = StandardScaler()\r\n",
    "\r\n",
    "# Apply the scaler model to fit the X-train data\r\n",
    "X_scaler = scaler.fit(X_train)\r\n",
    "\r\n",
    "# Transform the X_train and X_test DataFrames using the X_scaler\r\n",
    "X_train_scaled = X_scaler.transform(X_train)\r\n",
    "X_test_scaled = X_scaler.transform(X_test)"
   ],
   "outputs": [],
   "metadata": {}
  },
  {
   "cell_type": "markdown",
   "source": [
    "### Step 4: Use the `SVC` classifier model from SKLearn's support vector machine (SVM) learning method to fit the training data and make predictions based on the testing data. Review the predictions."
   ],
   "metadata": {}
  },
  {
   "cell_type": "code",
   "execution_count": 210,
   "source": [
    "# From SVM, instantiate SVC classifier model instance\r\n",
    "svm_model = svm.SVC()\r\n",
    " \r\n",
    "# Fit the model to the data using the training data\r\n",
    "svm_model = svm_model.fit(X_train_scaled, y_train)\r\n",
    " \r\n",
    "# Use the testing data to make the model predictions\r\n",
    "svm_pred = svm_model.predict(X_test_scaled)\r\n",
    "\r\n",
    "# Review the model's predicted values\r\n",
    "svm_pred[:10]\r\n"
   ],
   "outputs": [
    {
     "output_type": "execute_result",
     "data": {
      "text/plain": [
       "array([1., 1., 1., 1., 1., 1., 1., 1., 1., 1.])"
      ]
     },
     "metadata": {},
     "execution_count": 210
    }
   ],
   "metadata": {}
  },
  {
   "cell_type": "markdown",
   "source": [
    "### Step 5: Review the classification report associated with the `SVC` model predictions. "
   ],
   "metadata": {}
  },
  {
   "cell_type": "code",
   "execution_count": 211,
   "source": [
    "# Use a classification report to evaluate the model using the predictions and testing data\r\n",
    "svm_testing_report = classification_report(y_test, svm_pred)\r\n",
    "\r\n",
    "# Print the classification report\r\n",
    "print(svm_testing_report)"
   ],
   "outputs": [
    {
     "output_type": "stream",
     "name": "stdout",
     "text": [
      "              precision    recall  f1-score   support\n",
      "\n",
      "        -1.0       0.44      0.02      0.04      1732\n",
      "         1.0       0.56      0.98      0.71      2211\n",
      "\n",
      "    accuracy                           0.56      3943\n",
      "   macro avg       0.50      0.50      0.38      3943\n",
      "weighted avg       0.51      0.56      0.42      3943\n",
      "\n"
     ]
    }
   ],
   "metadata": {}
  },
  {
   "cell_type": "markdown",
   "source": [
    "### Step 6: Create a predictions DataFrame that contains columns for “Predicted” values, “Actual Returns”, and “Strategy Returns”."
   ],
   "metadata": {}
  },
  {
   "cell_type": "code",
   "execution_count": 212,
   "source": [
    "\r\n",
    "# Create a new empty predictions DataFrame.\r\n",
    "\r\n",
    "# Create a predictions DataFrame\r\n",
    "predictions_df = pd.DataFrame(index=X_test.index)\r\n",
    "\r\n",
    "# Add the SVM model predictions to the DataFrame\r\n",
    "predictions_df['Predicted'] =  svm_pred\r\n",
    "\r\n",
    "# Add the actual returns to the DataFrame\r\n",
    "predictions_df['Actual Returns'] = signals_df['Actual Returns']\r\n",
    "\r\n",
    "# Add the strategy returns to the DataFrame\r\n",
    "predictions_df['Strategy Returns'] = predictions_df['Actual Returns'] * predictions_df['Predicted']\r\n",
    "\r\n",
    "# Review the DataFrame\r\n",
    "display(predictions_df.head())\r\n",
    "display(predictions_df.tail())"
   ],
   "outputs": [
    {
     "output_type": "display_data",
     "data": {
      "text/html": [
       "<div>\n",
       "<style scoped>\n",
       "    .dataframe tbody tr th:only-of-type {\n",
       "        vertical-align: middle;\n",
       "    }\n",
       "\n",
       "    .dataframe tbody tr th {\n",
       "        vertical-align: top;\n",
       "    }\n",
       "\n",
       "    .dataframe thead th {\n",
       "        text-align: right;\n",
       "    }\n",
       "</style>\n",
       "<table border=\"1\" class=\"dataframe\">\n",
       "  <thead>\n",
       "    <tr style=\"text-align: right;\">\n",
       "      <th></th>\n",
       "      <th>Predicted</th>\n",
       "      <th>Actual Returns</th>\n",
       "      <th>Strategy Returns</th>\n",
       "    </tr>\n",
       "    <tr>\n",
       "      <th>date</th>\n",
       "      <th></th>\n",
       "      <th></th>\n",
       "      <th></th>\n",
       "    </tr>\n",
       "  </thead>\n",
       "  <tbody>\n",
       "    <tr>\n",
       "      <th>2015-10-05 09:45:00</th>\n",
       "      <td>1.0</td>\n",
       "      <td>0.013532</td>\n",
       "      <td>0.013532</td>\n",
       "    </tr>\n",
       "    <tr>\n",
       "      <th>2015-10-05 11:30:00</th>\n",
       "      <td>1.0</td>\n",
       "      <td>0.002302</td>\n",
       "      <td>0.002302</td>\n",
       "    </tr>\n",
       "    <tr>\n",
       "      <th>2015-10-05 13:15:00</th>\n",
       "      <td>1.0</td>\n",
       "      <td>-0.000919</td>\n",
       "      <td>-0.000919</td>\n",
       "    </tr>\n",
       "    <tr>\n",
       "      <th>2015-10-05 14:30:00</th>\n",
       "      <td>1.0</td>\n",
       "      <td>0.000920</td>\n",
       "      <td>0.000920</td>\n",
       "    </tr>\n",
       "    <tr>\n",
       "      <th>2015-10-05 14:45:00</th>\n",
       "      <td>1.0</td>\n",
       "      <td>0.002756</td>\n",
       "      <td>0.002756</td>\n",
       "    </tr>\n",
       "  </tbody>\n",
       "</table>\n",
       "</div>"
      ],
      "text/plain": [
       "                     Predicted  Actual Returns  Strategy Returns\n",
       "date                                                            \n",
       "2015-10-05 09:45:00        1.0        0.013532          0.013532\n",
       "2015-10-05 11:30:00        1.0        0.002302          0.002302\n",
       "2015-10-05 13:15:00        1.0       -0.000919         -0.000919\n",
       "2015-10-05 14:30:00        1.0        0.000920          0.000920\n",
       "2015-10-05 14:45:00        1.0        0.002756          0.002756"
      ]
     },
     "metadata": {}
    },
    {
     "output_type": "display_data",
     "data": {
      "text/html": [
       "<div>\n",
       "<style scoped>\n",
       "    .dataframe tbody tr th:only-of-type {\n",
       "        vertical-align: middle;\n",
       "    }\n",
       "\n",
       "    .dataframe tbody tr th {\n",
       "        vertical-align: top;\n",
       "    }\n",
       "\n",
       "    .dataframe thead th {\n",
       "        text-align: right;\n",
       "    }\n",
       "</style>\n",
       "<table border=\"1\" class=\"dataframe\">\n",
       "  <thead>\n",
       "    <tr style=\"text-align: right;\">\n",
       "      <th></th>\n",
       "      <th>Predicted</th>\n",
       "      <th>Actual Returns</th>\n",
       "      <th>Strategy Returns</th>\n",
       "    </tr>\n",
       "    <tr>\n",
       "      <th>date</th>\n",
       "      <th></th>\n",
       "      <th></th>\n",
       "      <th></th>\n",
       "    </tr>\n",
       "  </thead>\n",
       "  <tbody>\n",
       "    <tr>\n",
       "      <th>2021-01-22 09:30:00</th>\n",
       "      <td>1.0</td>\n",
       "      <td>-0.006866</td>\n",
       "      <td>-0.006866</td>\n",
       "    </tr>\n",
       "    <tr>\n",
       "      <th>2021-01-22 11:30:00</th>\n",
       "      <td>1.0</td>\n",
       "      <td>0.002405</td>\n",
       "      <td>0.002405</td>\n",
       "    </tr>\n",
       "    <tr>\n",
       "      <th>2021-01-22 13:45:00</th>\n",
       "      <td>1.0</td>\n",
       "      <td>0.002099</td>\n",
       "      <td>0.002099</td>\n",
       "    </tr>\n",
       "    <tr>\n",
       "      <th>2021-01-22 14:30:00</th>\n",
       "      <td>1.0</td>\n",
       "      <td>0.001496</td>\n",
       "      <td>0.001496</td>\n",
       "    </tr>\n",
       "    <tr>\n",
       "      <th>2021-01-22 15:45:00</th>\n",
       "      <td>1.0</td>\n",
       "      <td>-0.000896</td>\n",
       "      <td>-0.000896</td>\n",
       "    </tr>\n",
       "  </tbody>\n",
       "</table>\n",
       "</div>"
      ],
      "text/plain": [
       "                     Predicted  Actual Returns  Strategy Returns\n",
       "date                                                            \n",
       "2021-01-22 09:30:00        1.0       -0.006866         -0.006866\n",
       "2021-01-22 11:30:00        1.0        0.002405          0.002405\n",
       "2021-01-22 13:45:00        1.0        0.002099          0.002099\n",
       "2021-01-22 14:30:00        1.0        0.001496          0.001496\n",
       "2021-01-22 15:45:00        1.0       -0.000896         -0.000896"
      ]
     },
     "metadata": {}
    }
   ],
   "metadata": {}
  },
  {
   "cell_type": "markdown",
   "source": [
    "### Step 7: Create a cumulative return plot that shows the actual returns vs. the strategy returns. Save a PNG image of this plot. This will serve as a baseline against which to compare the effects of tuning the trading algorithm."
   ],
   "metadata": {}
  },
  {
   "cell_type": "code",
   "execution_count": 213,
   "source": [
    "ar_vs_sr = (1 + predictions_df[['Actual Returns', 'Strategy Returns']]).cumprod().plot(title = 'Actual vs. Strategy Returns - 3 Month Baseline',\r\n",
    "                                                                           figsize= (10,7)\r\n",
    "                                                                           )\r\n",
    "                                                                           \r\n",
    "\r\n"
   ],
   "outputs": [
    {
     "output_type": "display_data",
     "data": {
      "image/png": "[encoded data removed]",
      "text/plain": [
       "<Figure size 720x504 with 1 Axes>"
      ]
     },
     "metadata": {
      "needs_background": "light"
     }
    }
   ],
   "metadata": {}
  },
  {
   "cell_type": "code",
   "execution_count": 214,
   "source": [
    "# This for the life of me would not output the .png into my resources/images folder\r\n",
    "\r\n",
    "hvplot.save(ar_vs_sr, 'output.png')"
   ],
   "outputs": [
    {
     "output_type": "error",
     "ename": "AttributeError",
     "evalue": "'AxesSubplot' object has no attribute 'opts'",
     "traceback": [
      "\u001b[1;31m---------------------------------------------------------------------------\u001b[0m",
      "\u001b[1;31mAttributeError\u001b[0m                            Traceback (most recent call last)",
      "\u001b[1;32m<ipython-input-214-1b85c5ebfae0>\u001b[0m in \u001b[0;36m<module>\u001b[1;34m\u001b[0m\n\u001b[1;32m----> 1\u001b[1;33m \u001b[0mhvplot\u001b[0m\u001b[1;33m.\u001b[0m\u001b[0msave\u001b[0m\u001b[1;33m(\u001b[0m\u001b[0mar_vs_sr\u001b[0m\u001b[1;33m,\u001b[0m \u001b[1;34m'output.png'\u001b[0m\u001b[1;33m)\u001b[0m\u001b[1;33m\u001b[0m\u001b[1;33m\u001b[0m\u001b[0m\n\u001b[0m",
      "\u001b[1;32mC:\\ProgramData\\Anaconda3\\envs\\dev\\lib\\site-packages\\holoviews\\util\\__init__.py\u001b[0m in \u001b[0;36msave\u001b[1;34m(obj, filename, fmt, backend, resources, toolbar, title, **kwargs)\u001b[0m\n\u001b[0;32m    802\u001b[0m         \u001b[1;32mand\u001b[0m \u001b[1;33m(\u001b[0m\u001b[0mfmt\u001b[0m \u001b[1;33m==\u001b[0m \u001b[1;34m\"png\"\u001b[0m \u001b[1;32mor\u001b[0m \u001b[1;33m(\u001b[0m\u001b[0misinstance\u001b[0m\u001b[1;33m(\u001b[0m\u001b[0mfilename\u001b[0m\u001b[1;33m,\u001b[0m \u001b[0mstr\u001b[0m\u001b[1;33m)\u001b[0m \u001b[1;32mand\u001b[0m \u001b[0mfilename\u001b[0m\u001b[1;33m.\u001b[0m\u001b[0mendswith\u001b[0m\u001b[1;33m(\u001b[0m\u001b[1;34m\"png\"\u001b[0m\u001b[1;33m)\u001b[0m\u001b[1;33m)\u001b[0m\u001b[1;33m)\u001b[0m\u001b[1;33m\u001b[0m\u001b[1;33m\u001b[0m\u001b[0m\n\u001b[0;32m    803\u001b[0m     ):\n\u001b[1;32m--> 804\u001b[1;33m         \u001b[0mobj\u001b[0m \u001b[1;33m=\u001b[0m \u001b[0mobj\u001b[0m\u001b[1;33m.\u001b[0m\u001b[0mopts\u001b[0m\u001b[1;33m(\u001b[0m\u001b[0mtoolbar\u001b[0m\u001b[1;33m=\u001b[0m\u001b[1;32mNone\u001b[0m\u001b[1;33m,\u001b[0m \u001b[0mbackend\u001b[0m\u001b[1;33m=\u001b[0m\u001b[1;34m\"bokeh\"\u001b[0m\u001b[1;33m,\u001b[0m \u001b[0mclone\u001b[0m\u001b[1;33m=\u001b[0m\u001b[1;32mTrue\u001b[0m\u001b[1;33m)\u001b[0m\u001b[1;33m\u001b[0m\u001b[1;33m\u001b[0m\u001b[0m\n\u001b[0m\u001b[0;32m    805\u001b[0m     \u001b[1;32melif\u001b[0m \u001b[0mtoolbar\u001b[0m \u001b[1;32mis\u001b[0m \u001b[1;32mnot\u001b[0m \u001b[1;32mNone\u001b[0m \u001b[1;32mand\u001b[0m \u001b[1;32mnot\u001b[0m \u001b[0mtoolbar\u001b[0m\u001b[1;33m:\u001b[0m\u001b[1;33m\u001b[0m\u001b[1;33m\u001b[0m\u001b[0m\n\u001b[0;32m    806\u001b[0m         \u001b[0mobj\u001b[0m \u001b[1;33m=\u001b[0m \u001b[0mobj\u001b[0m\u001b[1;33m.\u001b[0m\u001b[0mopts\u001b[0m\u001b[1;33m(\u001b[0m\u001b[0mtoolbar\u001b[0m\u001b[1;33m=\u001b[0m\u001b[1;32mNone\u001b[0m\u001b[1;33m)\u001b[0m\u001b[1;33m\u001b[0m\u001b[1;33m\u001b[0m\u001b[0m\n",
      "\u001b[1;31mAttributeError\u001b[0m: 'AxesSubplot' object has no attribute 'opts'"
     ]
    }
   ],
   "metadata": {}
  },
  {
   "cell_type": "markdown",
   "source": [
    "---\n",
    "\n",
    "## Tune the Baseline Trading Algorithm"
   ],
   "metadata": {}
  },
  {
   "cell_type": "markdown",
   "source": [
    "## Step 6: Use an Alternative ML Model and Evaluate Strategy Returns"
   ],
   "metadata": {}
  },
  {
   "cell_type": "markdown",
   "source": [
    "In this section, you’ll tune, or adjust, the model’s input features to find the parameters that result in the best trading outcomes. You’ll choose the best by comparing the cumulative products of the strategy returns."
   ],
   "metadata": {}
  },
  {
   "cell_type": "markdown",
   "source": [
    "### Step 1: Tune the training algorithm by adjusting the size of the training dataset. \r\n",
    "\r\n",
    "To do so, slice your data into different periods. Rerun the notebook with the updated parameters, and record the results in your `README.md` file. \r\n",
    "\r\n",
    "Answer: By increasing the period to 6 months, we saw a marked level of returns, beyond that, into 8 and 10 months, the model was outperformed by the actual returns."
   ],
   "metadata": {}
  },
  {
   "cell_type": "markdown",
   "source": [
    "### Step 2: Tune the trading algorithm by adjusting the SMA input features. \r\n",
    "\r\n",
    "Adjust one or both of the windows for the algorithm. Rerun the notebook with the updated parameters, and record the results in your `README.md` file. \r\n",
    "\r\n",
    "Answer the following question: What impact resulted from increasing or decreasing either or both of the SMA windows?\r\n",
    "\r\n",
    "Answer: I'm not really sure, it's 2 AM and my head is spinning. "
   ],
   "metadata": {}
  },
  {
   "cell_type": "markdown",
   "source": [
    "### Step 3: Choose the set of parameters that best improved the trading algorithm returns. \n",
    "\n",
    "Save a PNG image of the cumulative product of the actual returns vs. the strategy returns, and document your conclusion in your `README.md` file."
   ],
   "metadata": {}
  },
  {
   "cell_type": "markdown",
   "source": [
    "---\n",
    "\n",
    "## Evaluate a New Machine Learning Classifier\n",
    "\n",
    "In this section, you’ll use the original parameters that the starter code provided. But, you’ll apply them to the performance of a second machine learning model. "
   ],
   "metadata": {}
  },
  {
   "cell_type": "markdown",
   "source": [
    "### Step 1:  Import a new classifier, such as `AdaBoost`, `DecisionTreeClassifier`, or `LogisticRegression`. (For the full list of classifiers, refer to the [Supervised learning page](https://scikit-learn.org/stable/supervised_learning.html) in the scikit-learn documentation.)"
   ],
   "metadata": {}
  },
  {
   "cell_type": "code",
   "execution_count": 242,
   "source": [
    "# Import a new classifier from SKLearn\r\n",
    "# I decided to get weird with it and go with DTC\r\n",
    "\r\n",
    "from sklearn.datasets import load_iris\r\n",
    "from sklearn.model_selection import cross_val_score\r\n",
    "from sklearn.tree import DecisionTreeClassifier\r\n",
    "\r\n",
    "# Initiate the model instance\r\n",
    "clf = DecisionTreeClassifier(random_state=1)\r\n",
    "iris = load_iris()\r\n",
    "cross_val_score(clf, iris.data, iris.target, cv=20)"
   ],
   "outputs": [
    {
     "output_type": "execute_result",
     "data": {
      "text/plain": [
       "array([1.        , 1.        , 0.875     , 0.875     , 1.        ,\n",
       "       1.        , 0.875     , 1.        , 1.        , 0.875     ,\n",
       "       0.85714286, 0.85714286, 0.85714286, 1.        , 0.85714286,\n",
       "       1.        , 1.        , 1.        , 1.        , 1.        ])"
      ]
     },
     "metadata": {},
     "execution_count": 242
    }
   ],
   "metadata": {}
  },
  {
   "cell_type": "markdown",
   "source": [
    "### Step 2: Using the original training data as the baseline model, fit another model with the new classifier."
   ],
   "metadata": {}
  },
  {
   "cell_type": "code",
   "execution_count": 243,
   "source": [
    "# Fit the model using the training data\r\n",
    "model = clf.fit(X_train_scaled, y_train)\r\n",
    "\r\n",
    "# Use the testing dataset to generate the predictions for the new model\r\n",
    "pred = clf.predict(X_test_scaled)\r\n",
    "\r\n",
    "# Review the model's predicted values\r\n",
    "print(pred)\r\n"
   ],
   "outputs": [
    {
     "output_type": "stream",
     "name": "stdout",
     "text": [
      "[ 1. -1. -1. ... -1. -1. -1.]\n"
     ]
    }
   ],
   "metadata": {}
  },
  {
   "cell_type": "markdown",
   "source": [
    "### Step 3: Backtest the new model to evaluate its performance. \r\n",
    "\r\n",
    "Save a PNG image of the cumulative product of the actual returns vs. the strategy returns for this updated trading algorithm, and write your conclusions in your `README.md` file. \r\n",
    "\r\n",
    "Answer the following questions: \r\n",
    "This model performed very poorly against all previous models. More science is required for further study."
   ],
   "metadata": {}
  },
  {
   "cell_type": "code",
   "execution_count": 244,
   "source": [
    "# Use a classification report to evaluate the model using the predictions and testing data\r\n",
    "report = classification_report(y_test, pred)\r\n",
    "\r\n",
    "# Print the classification report\r\n",
    "print(report)\r\n"
   ],
   "outputs": [
    {
     "output_type": "stream",
     "name": "stdout",
     "text": [
      "              precision    recall  f1-score   support\n",
      "\n",
      "        -1.0       0.44      0.57      0.49      1732\n",
      "         1.0       0.56      0.43      0.49      2211\n",
      "\n",
      "    accuracy                           0.49      3943\n",
      "   macro avg       0.50      0.50      0.49      3943\n",
      "weighted avg       0.51      0.49      0.49      3943\n",
      "\n"
     ]
    }
   ],
   "metadata": {}
  },
  {
   "cell_type": "code",
   "execution_count": 245,
   "source": [
    "# Create a new empty predictions DataFrame.\r\n",
    "\r\n",
    "# Create a predictions DataFrame\r\n",
    "predictions_df = pd.DataFrame(index=X_test.index)\r\n",
    "\r\n",
    "# Add the SVM model predictions to the DataFrame\r\n",
    "predictions_df[\"Predicted Signal\"] = pred\r\n",
    "\r\n",
    "# Add the actual returns to the DataFrame\r\n",
    "predictions_df[\"Actual Returns\"] = signals_df[\"Actual Returns\"]\r\n",
    "\r\n",
    "# Add the strategy returns to the DataFrame\r\n",
    "predictions_df[\"Strategy Returns\"] = predictions_df[\"Actual Returns\"] * predictions_df[\"Predicted Signal\"]\r\n",
    "\r\n",
    "# Review the DataFrame\r\n",
    "display(predictions_df.head())\r\n",
    "display(predictions_df.tail())\r\n"
   ],
   "outputs": [
    {
     "output_type": "display_data",
     "data": {
      "text/html": [
       "<div>\n",
       "<style scoped>\n",
       "    .dataframe tbody tr th:only-of-type {\n",
       "        vertical-align: middle;\n",
       "    }\n",
       "\n",
       "    .dataframe tbody tr th {\n",
       "        vertical-align: top;\n",
       "    }\n",
       "\n",
       "    .dataframe thead th {\n",
       "        text-align: right;\n",
       "    }\n",
       "</style>\n",
       "<table border=\"1\" class=\"dataframe\">\n",
       "  <thead>\n",
       "    <tr style=\"text-align: right;\">\n",
       "      <th></th>\n",
       "      <th>Predicted Signal</th>\n",
       "      <th>Actual Returns</th>\n",
       "      <th>Strategy Returns</th>\n",
       "    </tr>\n",
       "    <tr>\n",
       "      <th>date</th>\n",
       "      <th></th>\n",
       "      <th></th>\n",
       "      <th></th>\n",
       "    </tr>\n",
       "  </thead>\n",
       "  <tbody>\n",
       "    <tr>\n",
       "      <th>2015-10-05 09:45:00</th>\n",
       "      <td>1.0</td>\n",
       "      <td>0.013532</td>\n",
       "      <td>0.013532</td>\n",
       "    </tr>\n",
       "    <tr>\n",
       "      <th>2015-10-05 11:30:00</th>\n",
       "      <td>-1.0</td>\n",
       "      <td>0.002302</td>\n",
       "      <td>-0.002302</td>\n",
       "    </tr>\n",
       "    <tr>\n",
       "      <th>2015-10-05 13:15:00</th>\n",
       "      <td>-1.0</td>\n",
       "      <td>-0.000919</td>\n",
       "      <td>0.000919</td>\n",
       "    </tr>\n",
       "    <tr>\n",
       "      <th>2015-10-05 14:30:00</th>\n",
       "      <td>1.0</td>\n",
       "      <td>0.000920</td>\n",
       "      <td>0.000920</td>\n",
       "    </tr>\n",
       "    <tr>\n",
       "      <th>2015-10-05 14:45:00</th>\n",
       "      <td>1.0</td>\n",
       "      <td>0.002756</td>\n",
       "      <td>0.002756</td>\n",
       "    </tr>\n",
       "  </tbody>\n",
       "</table>\n",
       "</div>"
      ],
      "text/plain": [
       "                     Predicted Signal  Actual Returns  Strategy Returns\n",
       "date                                                                   \n",
       "2015-10-05 09:45:00               1.0        0.013532          0.013532\n",
       "2015-10-05 11:30:00              -1.0        0.002302         -0.002302\n",
       "2015-10-05 13:15:00              -1.0       -0.000919          0.000919\n",
       "2015-10-05 14:30:00               1.0        0.000920          0.000920\n",
       "2015-10-05 14:45:00               1.0        0.002756          0.002756"
      ]
     },
     "metadata": {}
    },
    {
     "output_type": "display_data",
     "data": {
      "text/html": [
       "<div>\n",
       "<style scoped>\n",
       "    .dataframe tbody tr th:only-of-type {\n",
       "        vertical-align: middle;\n",
       "    }\n",
       "\n",
       "    .dataframe tbody tr th {\n",
       "        vertical-align: top;\n",
       "    }\n",
       "\n",
       "    .dataframe thead th {\n",
       "        text-align: right;\n",
       "    }\n",
       "</style>\n",
       "<table border=\"1\" class=\"dataframe\">\n",
       "  <thead>\n",
       "    <tr style=\"text-align: right;\">\n",
       "      <th></th>\n",
       "      <th>Predicted Signal</th>\n",
       "      <th>Actual Returns</th>\n",
       "      <th>Strategy Returns</th>\n",
       "    </tr>\n",
       "    <tr>\n",
       "      <th>date</th>\n",
       "      <th></th>\n",
       "      <th></th>\n",
       "      <th></th>\n",
       "    </tr>\n",
       "  </thead>\n",
       "  <tbody>\n",
       "    <tr>\n",
       "      <th>2021-01-22 09:30:00</th>\n",
       "      <td>-1.0</td>\n",
       "      <td>-0.006866</td>\n",
       "      <td>0.006866</td>\n",
       "    </tr>\n",
       "    <tr>\n",
       "      <th>2021-01-22 11:30:00</th>\n",
       "      <td>-1.0</td>\n",
       "      <td>0.002405</td>\n",
       "      <td>-0.002405</td>\n",
       "    </tr>\n",
       "    <tr>\n",
       "      <th>2021-01-22 13:45:00</th>\n",
       "      <td>-1.0</td>\n",
       "      <td>0.002099</td>\n",
       "      <td>-0.002099</td>\n",
       "    </tr>\n",
       "    <tr>\n",
       "      <th>2021-01-22 14:30:00</th>\n",
       "      <td>-1.0</td>\n",
       "      <td>0.001496</td>\n",
       "      <td>-0.001496</td>\n",
       "    </tr>\n",
       "    <tr>\n",
       "      <th>2021-01-22 15:45:00</th>\n",
       "      <td>-1.0</td>\n",
       "      <td>-0.000896</td>\n",
       "      <td>0.000896</td>\n",
       "    </tr>\n",
       "  </tbody>\n",
       "</table>\n",
       "</div>"
      ],
      "text/plain": [
       "                     Predicted Signal  Actual Returns  Strategy Returns\n",
       "date                                                                   \n",
       "2021-01-22 09:30:00              -1.0       -0.006866          0.006866\n",
       "2021-01-22 11:30:00              -1.0        0.002405         -0.002405\n",
       "2021-01-22 13:45:00              -1.0        0.002099         -0.002099\n",
       "2021-01-22 14:30:00              -1.0        0.001496         -0.001496\n",
       "2021-01-22 15:45:00              -1.0       -0.000896          0.000896"
      ]
     },
     "metadata": {}
    }
   ],
   "metadata": {}
  },
  {
   "cell_type": "code",
   "execution_count": 246,
   "source": [
    "# Plot the actual returns versus the strategy returns\r\n",
    "(1 + predictions_df[[\"Actual Returns\", \"Strategy Returns\"]]).cumprod().plot(title = \"Actual vs. Strategy Returns w/ DTC\",\r\n",
    "                                                                           figsize= (10,7)\r\n",
    "                                                                           )"
   ],
   "outputs": [
    {
     "output_type": "execute_result",
     "data": {
      "text/plain": [
       "<AxesSubplot:title={'center':'Actual vs. Strategy Returns w/ DTC'}, xlabel='date'>"
      ]
     },
     "metadata": {},
     "execution_count": 246
    },
    {
     "output_type": "display_data",
     "data": {
      "image/png": "[encoded data removed]",
      "text/plain": [
       "<Figure size 720x504 with 1 Axes>"
      ]
     },
     "metadata": {
      "needs_background": "light"
     }
    }
   ],
   "metadata": {}
  },
  {
   "cell_type": "code",
   "execution_count": null,
   "source": [],
   "outputs": [],
   "metadata": {}
  }
 ],
 "metadata": {
  "kernelspec": {
   "name": "python3",
   "display_name": "Python 3.7.10 64-bit ('dev': conda)"
  },
  "language_info": {
   "codemirror_mode": {
    "name": "ipython",
    "version": 3
   },
   "file_extension": ".py",
   "mimetype": "text/x-python",
   "name": "python",
   "nbconvert_exporter": "python",
   "pygments_lexer": "ipython3",
   "version": "3.7.10"
  },
  "interpreter": {
   "hash": "0a6b53b808be22ed9015cf5d408376640e4deef689ef9b186ab992a818d0bc32"
  }
 },
 "nbformat": 4,
 "nbformat_minor": 4
}